{
 "cells": [
  {
   "cell_type": "code",
   "execution_count": null,
   "metadata": {},
   "outputs": [],
   "source": [
    "import pickle\n",
    "import pandas as pd\n",
    "import snap"
   ]
  },
  {
   "cell_type": "code",
   "execution_count": null,
   "metadata": {},
   "outputs": [],
   "source": [
    "# subredditNames = [\"funny\"]\n",
    "\n",
    "subredditNames = [\"funny\",'AskReddit','gaming','aww','Music','pics','science','worldnews','videos','todayilearned',\n",
    "                 'movies','news','Showerthoughts','EarthPorn','gifs','IAmA','food','askscience','Jokes',\n",
    "                  'LifeProTips','explainlikeimfive','Art','books','mildlyinteresting','nottheonion','DIY',\n",
    "                 'sports','blogs','space','gadgets','anime','geek','Unexpected','YouShouldKnow','programming']"
   ]
  },
  {
   "cell_type": "code",
   "execution_count": null,
   "metadata": {},
   "outputs": [],
   "source": [
    "def getAuthorList(df):\n",
    "    result_df = df.drop_duplicates(subset=['author'])\n",
    "    lst = result_df['author'].tolist()\n",
    "    lst.remove('[deleted]')    \n",
    "    return lst\n",
    "\n",
    "def intersection(lst1, lst2): \n",
    "    lst3 = [value for value in lst1 if value in lst2] \n",
    "    return lst3"
   ]
  },
  {
   "cell_type": "code",
   "execution_count": null,
   "metadata": {},
   "outputs": [],
   "source": [
    "authors_dict = {}\n",
    "\n",
    "for subreddit in subredditNames:\n",
    "    load_pickle = pickle.load( open( \"submissions/\" + subreddit + \".p\", \"rb\" ) )\n",
    "    authors_dict[subreddit] = getAuthorList(load_pickle)"
   ]
  },
  {
   "cell_type": "code",
   "execution_count": null,
   "metadata": {},
   "outputs": [],
   "source": [
    "G = snap.TUNGraph.New()\n",
    "for i in range(len(subredditNames)):\n",
    "  G.AddNode(i)"
   ]
  },
  {
   "cell_type": "code",
   "execution_count": null,
   "metadata": {},
   "outputs": [],
   "source": [
    "for i in range(len(subredditNames)):\n",
    "    for j in range(i, len(subredditNames)-1):\n",
    "        lst1 = authors_dict[subredditNames[i]]\n",
    "        lst2 = authors_dict[subredditNames[j+1]]\n",
    "#         print(intersection(lst1, lst2))\n",
    "        if (intersection(lst1, lst2)):\n",
    "            G.AddEdge(i,j+1)\n",
    "            print(\"Intersection from \", subredditNames[i], \" to \", subredditNames[j+1])\n",
    "        else:\n",
    "            print(\"No Link from \", subredditNames[i], \" to \", subredditNames[j+1])"
   ]
  },
  {
   "cell_type": "code",
   "execution_count": null,
   "metadata": {},
   "outputs": [],
   "source": [
    "labels = {}\n",
    "for NI in G.Nodes():\n",
    "    labels[NI.GetId()] = str(NI.GetId())\n",
    "G.DrawGViz(snap.gvlDot, \"output2.png\", \" \", labels)"
   ]
  },
  {
   "cell_type": "code",
   "execution_count": null,
   "metadata": {},
   "outputs": [],
   "source": [
    "UGraph = snap.GenRndGnm(snap.TUNGraph, 10, 50)\n",
    "labels = {}\n",
    "for NI in UGraph.Nodes():\n",
    "    labels[NI.GetId()] = str(NI.GetId())\n",
    "UGraph.DrawGViz(snap.gvlDot, \"output3.png\", \" \", labels)"
   ]
  },
  {
   "cell_type": "code",
   "execution_count": null,
   "metadata": {},
   "outputs": [],
   "source": []
  }
 ],
 "metadata": {
  "kernelspec": {
   "display_name": "Python 3",
   "language": "python",
   "name": "python3"
  },
  "language_info": {
   "codemirror_mode": {
    "name": "ipython",
    "version": 3
   },
   "file_extension": ".py",
   "mimetype": "text/x-python",
   "name": "python",
   "nbconvert_exporter": "python",
   "pygments_lexer": "ipython3",
   "version": "3.8.5"
  }
 },
 "nbformat": 4,
 "nbformat_minor": 4
}
