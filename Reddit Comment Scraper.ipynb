{
 "cells": [
  {
   "cell_type": "code",
   "execution_count": null,
   "metadata": {},
   "outputs": [],
   "source": [
    "!pip install psaw"
   ]
  },
  {
   "cell_type": "code",
   "execution_count": 15,
   "metadata": {},
   "outputs": [],
   "source": [
    "from IPython.display import display \n",
    "import os\n",
    "import json\n",
    "import glob\n",
    "import requests\n",
    "import datetime\n",
    "import traceback\n",
    "import time\n",
    "import json\n",
    "import sys\n",
    "import pandas as pd\n",
    "import pickle\n",
    "from pathlib import Path\n",
    "from psaw import PushshiftAPI\n",
    "from datetime import date, timedelta\n",
    "from collections import Counter"
   ]
  },
  {
   "cell_type": "code",
   "execution_count": 2,
   "metadata": {},
   "outputs": [],
   "source": [
    "api = PushshiftAPI()\n",
    "\n",
    "subredditNames = [\"funny\",'AskReddit','gaming','aww','Music','pics','science','worldnews','videos','todayilearned',\n",
    "                 'movies','news','Showerthoughts','EarthPorn','gifs','IAmA','dankmemes','ComedyCemetery','Jokes',\n",
    "                  'LifeProTips','PrequelMemes','terriblefacebookmemes','books','mildlyinteresting','nottheonion','DIY',\n",
    "                 'sports','2meirl4meirl','space','gadgets','anime','memes','Unexpected','YouShouldKnow','programming',\n",
    "                 'bestof','MadeMeSmile','pettyrevenge','WTF','cringepics','wholesomegifs','cringe'\n",
    "                 , 'mildlyinfuriating','rage','leagueoflegends','pokemon','Minecraft','Games'\n",
    "                 ,'DotA2','starcraft','skyrim','mindcrack','arresteddevelopment','gameofthrones','doctorwho'\n",
    "                 ,'harrypotter','StarWars','DaftPunk','hiphopheads','geek','AdviceAnimals'\n",
    "                  ,'IdiotsInCars','circlejerk','facepalm'\n",
    "                  ,'TrollXChromosomes','AnimalsBeingJerks','youtubehaiku','woahdude','awwnime'\n",
    "                 ,'PerfectTiming','itookapicture','AbandonedPorn','techsupportgore','askscience'\n",
    "                 ,'explainlikeimfive','cats','corgi','food','teenagers','lifehacks','Frugal','Fitness','Art'\n",
    "                 ,'loseit','RedditLaqueristas','Random_Acts_Of_Amazon','politics','TrueReddit','atheism','lgbt'\n",
    "                 ,'TwoXChromosomes','MensRights','nba','soccer','hockey','nfl','Android'\n",
    "                 ,'technology','PewdiepieSubmissions','apple']"
   ]
  },
  {
   "cell_type": "code",
   "execution_count": 23,
   "metadata": {},
   "outputs": [
    {
     "name": "stdout",
     "output_type": "stream",
     "text": [
      "{'[deleted]': 2, 'Rowbsgotu': 1, 'Halfblood_Prince-': 1, 'gobblin62': 1, '911porsche': 1, 'WhiskyTango3': 1, 'dwb75': 1, 'rickalvaradojr': 2, 'Holydiver951': 2, 'kruptcyx': 1, 'jpslammer8': 1, 'nemo1080': 1, 'err_dan': 1, 'Funny_Sentinel': 1}\n",
      "funny done with 0 errors\n"
     ]
    }
   ],
   "source": [
    "def createFolder():\n",
    "    Path(\"scraped_data/comments\").mkdir(parents=True, exist_ok=True)\n",
    "\n",
    "def scrapRedditComments(subreddits):  \n",
    "    createFolder()\n",
    "    for subreddit in subreddits:\n",
    "        submissions = pickle.load(open(\"scraped_data/submissions/\" + subreddit + \".p\", \"rb\" ))\n",
    "        problems = 0\n",
    "        n = len(submissions)\n",
    "        result = pd.DataFrame()\n",
    "        count = {}\n",
    "        for i in range(n):\n",
    "            print (subreddit + \": \"+ str(i) + ' in ' + str(n), end=\"\\r\")\n",
    "            sid = submissions.iloc[i].id\n",
    "            gen = api.search_comments(link_id=sid,filter='author')\n",
    "            listed_gen = list(gen)\n",
    "            d = ([thing.d_['author'] for thing in listed_gen])\n",
    "            count = dict(Counter(count) + Counter(d))\n",
    "#             if i == 3:\n",
    "#                 print(count)\n",
    "#                 break\n",
    "#             df = pd.DataFrame([thing.d_ for thing in listed_gen])\n",
    "#             try:\n",
    "#                 result = result.append(df)\n",
    "#             except:\n",
    "#                 problems += 1\n",
    "        count.pop('[deleted', None)\n",
    "        pickle.dump(count, open(\"scraped_data/comments/\" + subreddit +  \".p\", \"wb\"))\n",
    "        print(subreddit + \" done with \" + str(problems) + \" errors\")\n",
    "        break\n",
    "        \n",
    "scrapRedditComments(subredditNames[50:])"
   ]
  },
  {
   "cell_type": "code",
   "execution_count": 25,
   "metadata": {},
   "outputs": [
    {
     "data": {
      "text/plain": [
       "{'[deleted]': 2,\n",
       " 'Rowbsgotu': 1,\n",
       " 'Halfblood_Prince-': 1,\n",
       " 'gobblin62': 1,\n",
       " '911porsche': 1,\n",
       " 'WhiskyTango3': 1,\n",
       " 'dwb75': 1,\n",
       " 'rickalvaradojr': 2,\n",
       " 'Holydiver951': 2,\n",
       " 'kruptcyx': 1,\n",
       " 'jpslammer8': 1,\n",
       " 'nemo1080': 1,\n",
       " 'err_dan': 1,\n",
       " 'Funny_Sentinel': 1}"
      ]
     },
     "execution_count": 25,
     "metadata": {},
     "output_type": "execute_result"
    }
   ],
   "source": [
    "# load_funny = pickle.load(open( \"scraped_data/comments/funny.p\", \"rb\" ) )\n",
    "# load_funny\n",
    "\n",
    "# df = load_funny \n",
    "# link_id = df.iloc[0].id\n",
    "# print(link_id)\n",
    "# gen2 = api.search_comments(link_id=link_id)\n",
    "# results2 = list(gen2)\n",
    "# df2 = pd.DataFrame([thing.d_ for thing in results2])\n",
    "# print(len(df))\n",
    "\n",
    "# df.iloc[1091].full_link"
   ]
  },
  {
   "cell_type": "code",
   "execution_count": null,
   "metadata": {},
   "outputs": [],
   "source": []
  }
 ],
 "metadata": {
  "kernelspec": {
   "display_name": "Python 3",
   "language": "python",
   "name": "python3"
  },
  "language_info": {
   "codemirror_mode": {
    "name": "ipython",
    "version": 3
   },
   "file_extension": ".py",
   "mimetype": "text/x-python",
   "name": "python",
   "nbconvert_exporter": "python",
   "pygments_lexer": "ipython3",
   "version": "3.6.8"
  }
 },
 "nbformat": 4,
 "nbformat_minor": 5
}
