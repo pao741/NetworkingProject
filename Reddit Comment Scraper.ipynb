{
 "cells": [
  {
   "cell_type": "code",
   "execution_count": null,
   "metadata": {},
   "outputs": [],
   "source": [
    "!pip install psaw"
   ]
  },
  {
   "cell_type": "code",
   "execution_count": null,
   "metadata": {},
   "outputs": [],
   "source": [
    "from IPython.display import display \n",
    "import os\n",
    "import json\n",
    "import glob\n",
    "import requests\n",
    "import datetime\n",
    "import traceback\n",
    "import time\n",
    "import json\n",
    "import sys\n",
    "import pandas as pd\n",
    "import pickle\n",
    "from pathlib import Path\n",
    "from psaw import PushshiftAPI\n",
    "from datetime import date, timedelta"
   ]
  },
  {
   "cell_type": "code",
   "execution_count": null,
   "metadata": {},
   "outputs": [],
   "source": [
    "api = PushshiftAPI()\n",
    "\n",
    "subredditNames = [\"funny\",'AskReddit','gaming','aww','Music','pics','science','worldnews','videos','todayilearned',\n",
    "                 'movies','news','Showerthoughts','EarthPorn','gifs','IAmA','dankmemes','ComedyCemetery','Jokes',\n",
    "                  'LifeProTips','PrequelMemes','terriblefacebookmemes','books','mildlyinteresting','nottheonion','DIY',\n",
    "                 'sports','2meirl4meirl','space','gadgets','anime','memes','Unexpected','YouShouldKnow','programming',\n",
    "                 'bestof','MadeMeSmile','pettyrevenge','WTF','cringepics','wholesomegifs','cringe'\n",
    "                 , 'mildlyinfuriating','rage','leagueoflegends','pokemon','Minecraft','Games'\n",
    "                 ,'DotA2','starcraft','skyrim','mindcrack','arresteddevelopment','gameofthrones','doctorwho'\n",
    "                 ,'harrypotter','StarWars','DaftPunk','hiphopheads','geek','AdviceAnimals'\n",
    "                  ,'IdiotsInCars','circlejerk','facepalm'\n",
    "                  ,'TrollXChromosomes','AnimalsBeingJerks','youtubehaiku','woahdude','awwnime'\n",
    "                 ,'PerfectTiming','itookapicture','AbandonedPorn','techsupportgore','askscience'\n",
    "                 ,'explainlikeimfive','cats','corgi','food','teenagers','lifehacks','Frugal','Fitness','Art'\n",
    "                 ,'loseit','RedditLaqueristas','Random_Acts_Of_Amazon','politics','TrueReddit','atheism','lgbt'\n",
    "                 ,'TwoXChromosomes','MensRights','nba','soccer','hockey','nfl','Android'\n",
    "                 ,'technology','PewdiepieSubmissions','apple']"
   ]
  },
  {
   "cell_type": "code",
   "execution_count": null,
   "metadata": {},
   "outputs": [],
   "source": [
    "def scrapRedditComments(subreddits):    \n",
    "    for subreddit in subreddits:\n",
    "        submissions = pickle.load(open(\"scraped_data/submissions/\" + subreddit + \".p\", \"rb\" ))\n",
    "        problems = 0\n",
    "        n = len(submissions)\n",
    "        result = pd.DataFrame()\n",
    "        for i in range(n):\n",
    "            print (subreddit + \": \"+ str(i) + ' in ' + str(n), end=\"\\r\")\n",
    "            sid = submissions.iloc[i].id\n",
    "            gen = api.search_comments(link_id=sid,filter='author')\n",
    "            listed_gen = list(gen)\n",
    "            df = pd.DataFrame([thing.d_ for thing in listed_gen])\n",
    "            try:\n",
    "                result = result.append(df)\n",
    "            except:\n",
    "                problems += 1\n",
    "\n",
    "        formated = a1[a1!='[deleted]']\n",
    "        pickle.dump(formated, open(\"scraped_data/comments/\" + subreddit +  \".p\", \"wb\"))\n",
    "        print(subreddit + \" done with \" + str(problems) + \" errors\")\n",
    "        \n",
    "scrapRedditComments(subredditNames[50:])"
   ]
  },
  {
   "cell_type": "code",
   "execution_count": null,
   "metadata": {},
   "outputs": [],
   "source": [
    "# load_funny = pickle.load(open( \"scraped_data/submissions/funny.p\", \"rb\" ) )\n",
    "# load_funny\n",
    "\n",
    "# df = load_funny \n",
    "# link_id = df.iloc[0].id\n",
    "# print(link_id)\n",
    "# gen2 = api.search_comments(link_id=link_id)\n",
    "# results2 = list(gen2)\n",
    "# df2 = pd.DataFrame([thing.d_ for thing in results2])\n",
    "# print(len(df))\n",
    "\n",
    "# df.iloc[1091].full_link"
   ]
  }
 ],
 "metadata": {
  "kernelspec": {
   "display_name": "Python 3",
   "language": "python",
   "name": "python3"
  },
  "language_info": {
   "codemirror_mode": {
    "name": "ipython",
    "version": 3
   },
   "file_extension": ".py",
   "mimetype": "text/x-python",
   "name": "python",
   "nbconvert_exporter": "python",
   "pygments_lexer": "ipython3",
   "version": "3.8.5"
  }
 },
 "nbformat": 4,
 "nbformat_minor": 5
}
