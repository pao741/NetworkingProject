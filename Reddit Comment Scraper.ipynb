{
 "cells": [
  {
   "cell_type": "code",
   "execution_count": 1,
   "metadata": {},
   "outputs": [
    {
     "name": "stdout",
     "output_type": "stream",
     "text": [
      "Requirement already satisfied: psaw in c:\\users\\atich\\anaconda3\\lib\\site-packages (0.1.0)\n",
      "Requirement already satisfied: Click in c:\\users\\atich\\anaconda3\\lib\\site-packages (from psaw) (7.1.2)\n",
      "Requirement already satisfied: requests in c:\\users\\atich\\anaconda3\\lib\\site-packages (from psaw) (2.24.0)\n",
      "Requirement already satisfied: idna<3,>=2.5 in c:\\users\\atich\\anaconda3\\lib\\site-packages (from requests->psaw) (2.10)\n",
      "Requirement already satisfied: certifi>=2017.4.17 in c:\\users\\atich\\anaconda3\\lib\\site-packages (from requests->psaw) (2020.6.20)\n",
      "Requirement already satisfied: chardet<4,>=3.0.2 in c:\\users\\atich\\anaconda3\\lib\\site-packages (from requests->psaw) (3.0.4)\n",
      "Requirement already satisfied: urllib3!=1.25.0,!=1.25.1,<1.26,>=1.21.1 in c:\\users\\atich\\anaconda3\\lib\\site-packages (from requests->psaw) (1.25.11)\n"
     ]
    }
   ],
   "source": [
    "!pip install psaw"
   ]
  },
  {
   "cell_type": "code",
   "execution_count": 2,
   "metadata": {},
   "outputs": [],
   "source": [
    "from IPython.display import display \n",
    "import os\n",
    "import json\n",
    "import glob\n",
    "import requests\n",
    "import datetime\n",
    "import traceback\n",
    "import time\n",
    "import json\n",
    "import sys\n",
    "import pandas as pd\n",
    "import pickle\n",
    "from pathlib import Path\n",
    "from psaw import PushshiftAPI\n",
    "from datetime import date, timedelta\n",
    "from collections import Counter"
   ]
  },
  {
   "cell_type": "code",
   "execution_count": 3,
   "metadata": {},
   "outputs": [],
   "source": [
    "api = PushshiftAPI()\n",
    "\n",
    "subredditNames = [\"funny\",'AskReddit','gaming','aww','Music','pics','science','worldnews','videos','todayilearned',\n",
    "                 'movies','news','Showerthoughts','EarthPorn','gifs','IAmA','dankmemes','ComedyCemetery','Jokes',\n",
    "                  'LifeProTips','PrequelMemes','terriblefacebookmemes','books','mildlyinteresting','nottheonion','DIY',\n",
    "                 'sports','2meirl4meirl','space','gadgets','anime','memes','Unexpected','YouShouldKnow','programming',\n",
    "                 'bestof','MadeMeSmile','pettyrevenge','WTF','cringepics','wholesomegifs','cringe'\n",
    "                 , 'mildlyinfuriating','rage','leagueoflegends','pokemon','Minecraft','Games'\n",
    "                 ,'DotA2','starcraft','skyrim','mindcrack','arresteddevelopment','gameofthrones','doctorwho'\n",
    "                 ,'harrypotter','StarWars','DaftPunk','hiphopheads','geek','AdviceAnimals'\n",
    "                  ,'IdiotsInCars','circlejerk','facepalm'\n",
    "                  ,'TrollXChromosomes','AnimalsBeingJerks','youtubehaiku','woahdude','awwnime'\n",
    "                 ,'PerfectTiming','itookapicture','AbandonedPorn','techsupportgore','askscience'\n",
    "                 ,'explainlikeimfive','cats','corgi','food','teenagers','lifehacks','Frugal','Fitness','Art'\n",
    "                 ,'loseit','RedditLaqueristas','Random_Acts_Of_Amazon','politics','TrueReddit','atheism','lgbt'\n",
    "                 ,'TwoXChromosomes','MensRights','nba','soccer','hockey','nfl','Android'\n",
    "                 ,'technology','PewdiepieSubmissions','apple']"
   ]
  },
  {
   "cell_type": "code",
   "execution_count": 4,
   "metadata": {
    "scrolled": false
   },
   "outputs": [
    {
     "name": "stdout",
     "output_type": "stream",
     "text": [
      "teenagers: 326 in 1092\r"
     ]
    },
    {
     "name": "stderr",
     "output_type": "stream",
     "text": [
      "C:\\Users\\atich\\anaconda3\\lib\\site-packages\\psaw\\PushshiftAPI.py:192: UserWarning: Got non 200 code 502\n",
      "  warnings.warn(\"Got non 200 code %s\" % response.status_code)\n",
      "C:\\Users\\atich\\anaconda3\\lib\\site-packages\\psaw\\PushshiftAPI.py:180: UserWarning: Unable to connect to pushshift.io. Retrying after backoff.\n",
      "  warnings.warn(\"Unable to connect to pushshift.io. Retrying after backoff.\")\n"
     ]
    },
    {
     "name": "stdout",
     "output_type": "stream",
     "text": [
      "teenagers done with 0 errors\n",
      "lifehacks: 649 in 1081\r"
     ]
    },
    {
     "name": "stderr",
     "output_type": "stream",
     "text": [
      "C:\\Users\\atich\\anaconda3\\lib\\site-packages\\psaw\\PushshiftAPI.py:192: UserWarning: Got non 200 code 522\n",
      "  warnings.warn(\"Got non 200 code %s\" % response.status_code)\n"
     ]
    },
    {
     "name": "stdout",
     "output_type": "stream",
     "text": [
      "lifehacks done with 0 errors\n",
      "Frugal done with 0 errors\n",
      "Fitness done with 0 errors\n",
      "Art done with 0 errors\n",
      "loseit: 699 in 1092\r"
     ]
    },
    {
     "name": "stderr",
     "output_type": "stream",
     "text": [
      "C:\\Users\\atich\\anaconda3\\lib\\site-packages\\psaw\\PushshiftAPI.py:192: UserWarning: Got non 200 code 520\n",
      "  warnings.warn(\"Got non 200 code %s\" % response.status_code)\n"
     ]
    },
    {
     "name": "stdout",
     "output_type": "stream",
     "text": [
      "loseit done with 0 errors\n",
      "RedditLaqueristas done with 0 errors\n",
      "Random_Acts_Of_Amazon done with 0 errors\n",
      "politics done with 0 errors\n",
      "TrueReddit done with 0 errors\n",
      "atheism done with 0 errors\n",
      "lgbt done with 0 errors\n",
      "TwoXChromosomes done with 0 errors\n",
      "MensRights done with 0 errors\n",
      "nba done with 0 errors\n",
      "soccer done with 0 errors\n",
      "hockey done with 0 errors\n",
      "nfl done with 0 errors\n",
      "Android done with 0 errors\n",
      "technology done with 0 errors\n",
      "PewdiepieSubmissions done with 0 errors\n",
      "apple done with 0 errors\n"
     ]
    }
   ],
   "source": [
    "def createFolder():\n",
    "    Path(\"scraped_data/comments\").mkdir(parents=True, exist_ok=True)\n",
    "\n",
    "def scrapRedditComments(subreddits):  \n",
    "    createFolder()\n",
    "    for subreddit in subreddits:\n",
    "        submissions = pickle.load(open(\"scraped_data/submissions/\" + subreddit + \".p\", \"rb\" ))\n",
    "        problems = 0\n",
    "        n = len(submissions)\n",
    "        result = pd.DataFrame()\n",
    "        count = {}\n",
    "        for i in range(n):\n",
    "            print (subreddit + \": \"+ str(i) + ' in ' + str(n), end=\"\\r\")\n",
    "            sid = submissions.iloc[i].id\n",
    "            gen = api.search_comments(link_id=sid,filter='author')\n",
    "            listed_gen = list(gen)\n",
    "            d = ([thing.d_['author'] for thing in listed_gen])\n",
    "            count = dict(Counter(count) + Counter(d))\n",
    "#             if i == 3:\n",
    "#                 print(count)\n",
    "#                 break\n",
    "#             df = pd.DataFrame([thing.d_ for thing in listed_gen])\n",
    "#             try:\n",
    "#                 result = result.append(df)\n",
    "#             except:\n",
    "#                 problems += 1\n",
    "        count.pop('[deleted', None)\n",
    "        pickle.dump(count, open(\"scraped_data/comments/\" + subreddit +  \".p\", \"wb\"))\n",
    "        print(subreddit + \" done with \" + str(problems) + \" errors\")\n",
    "        \n",
    "        \n",
    "scrapRedditComments(subredditNames[78:])"
   ]
  },
  {
   "cell_type": "code",
   "execution_count": 5,
   "metadata": {},
   "outputs": [],
   "source": [
    "# load_funny = pickle.load(open( \"scraped_data/comments/funny.p\", \"rb\" ) )\n",
    "# load_funny\n",
    "\n",
    "# df = load_funny \n",
    "# link_id = df.iloc[0].id\n",
    "# print(link_id)\n",
    "# gen2 = api.search_comments(link_id=link_id)\n",
    "# results2 = list(gen2)\n",
    "# df2 = pd.DataFrame([thing.d_ for thing in results2])\n",
    "# print(len(df))\n",
    "\n",
    "# df.iloc[1091].full_link"
   ]
  },
  {
   "cell_type": "code",
   "execution_count": null,
   "metadata": {},
   "outputs": [],
   "source": []
  }
 ],
 "metadata": {
  "kernelspec": {
   "display_name": "Python 3",
   "language": "python",
   "name": "python3"
  },
  "language_info": {
   "codemirror_mode": {
    "name": "ipython",
    "version": 3
   },
   "file_extension": ".py",
   "mimetype": "text/x-python",
   "name": "python",
   "nbconvert_exporter": "python",
   "pygments_lexer": "ipython3",
   "version": "3.8.5"
  }
 },
 "nbformat": 4,
 "nbformat_minor": 5
}
