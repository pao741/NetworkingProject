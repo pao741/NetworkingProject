{
 "cells": [
  {
   "cell_type": "code",
   "execution_count": 34,
   "id": "minute-canadian",
   "metadata": {},
   "outputs": [],
   "source": [
    "import praw\n",
    "import pickle\n",
    "import pandas as pd\n",
    "import datetime"
   ]
  },
  {
   "cell_type": "code",
   "execution_count": 8,
   "id": "brown-license",
   "metadata": {},
   "outputs": [],
   "source": [
    "reddit = praw.Reddit(client_id='rfs0DlvPwbixdQ', \\\n",
    "                     client_secret='VQqlodjiIMx7SGvd4EwLAyWJ-rLVQg', \\\n",
    "                     user_agent='scraper', \\\n",
    "                     username='vye_wasnt_here', \\\n",
    "                     password='Anuvit741')"
   ]
  },
  {
   "cell_type": "code",
   "execution_count": 21,
   "id": "alpine-camping",
   "metadata": {},
   "outputs": [],
   "source": [
    "subreddit = reddit.subreddit('funny')\n",
    "top_subreddit = subreddit.top(limit=500)\n",
    "subreddit_names = [\"funny\",'AskReddit','gaming','aww','Music','pics','science','worldnews','videos','todayilearned',\n",
    "                 'movies','news','Showerthoughts','EarthPorn','gifs','IAmA','food','askscience','Jokes',\n",
    "                  'LifeProTips','explainlikeimfive','Art','books','mildlyinteresting','nottheonion','DIY',\n",
    "                 'sports','blogs','space','gadgets','anime','geek','Unexpected','YouShouldKnow','programming']\n",
    "# print(top_subreddit)"
   ]
  },
  {
   "cell_type": "code",
   "execution_count": 25,
   "id": "incorrect-surprise",
   "metadata": {},
   "outputs": [],
   "source": [
    "def test_subreddit_names(names):\n",
    "    for name in names:\n",
    "#         print(name)\n",
    "        reddit.subreddit(name)\n",
    "\n",
    "test_subreddit_names(subreddit_names)    "
   ]
  },
  {
   "cell_type": "code",
   "execution_count": 43,
   "id": "pending-jewelry",
   "metadata": {},
   "outputs": [
    {
     "name": "stdout",
     "output_type": "stream",
     "text": [
      "None\n"
     ]
    }
   ],
   "source": [
    "t = []\n",
    "submissions = reddit.submission(subreddit)\n",
    "print(submissions.author)\n",
    "# for submission in submissions:\n",
    "#     t.append(submission.title)\n",
    "# print(len(t))"
   ]
  },
  {
   "cell_type": "code",
   "execution_count": 38,
   "id": "auburn-reggae",
   "metadata": {},
   "outputs": [
    {
     "ename": "TypeError",
     "evalue": "submission() got an unexpected keyword argument 'subreddit'",
     "output_type": "error",
     "traceback": [
      "\u001b[0;31m---------------------------------------------------------------------------\u001b[0m",
      "\u001b[0;31mTypeError\u001b[0m                                 Traceback (most recent call last)",
      "\u001b[0;32m<ipython-input-38-d97c5ddf435b>\u001b[0m in \u001b[0;36m<module>\u001b[0;34m\u001b[0m\n\u001b[1;32m      1\u001b[0m \u001b[0mt\u001b[0m \u001b[0;34m=\u001b[0m \u001b[0;34m[\u001b[0m\u001b[0;34m]\u001b[0m\u001b[0;34m\u001b[0m\u001b[0;34m\u001b[0m\u001b[0m\n\u001b[0;32m----> 2\u001b[0;31m \u001b[0;32mfor\u001b[0m \u001b[0msubmission\u001b[0m \u001b[0;32min\u001b[0m \u001b[0mreddit\u001b[0m\u001b[0;34m.\u001b[0m\u001b[0msubmission\u001b[0m\u001b[0;34m(\u001b[0m\u001b[0msubreddit\u001b[0m\u001b[0;34m=\u001b[0m\u001b[0msubreddit\u001b[0m\u001b[0;34m)\u001b[0m\u001b[0;34m:\u001b[0m\u001b[0;34m\u001b[0m\u001b[0;34m\u001b[0m\u001b[0m\n\u001b[0m\u001b[1;32m      3\u001b[0m \u001b[0;31m#     print(submission.title, submission.id)\u001b[0m\u001b[0;34m\u001b[0m\u001b[0;34m\u001b[0m\u001b[0;34m\u001b[0m\u001b[0m\n\u001b[1;32m      4\u001b[0m     \u001b[0mt\u001b[0m\u001b[0;34m.\u001b[0m\u001b[0mappend\u001b[0m\u001b[0;34m(\u001b[0m\u001b[0msubmission\u001b[0m\u001b[0;34m.\u001b[0m\u001b[0mtitle\u001b[0m\u001b[0;34m)\u001b[0m\u001b[0;34m\u001b[0m\u001b[0;34m\u001b[0m\u001b[0m\n\u001b[1;32m      5\u001b[0m \u001b[0;34m\u001b[0m\u001b[0m\n",
      "\u001b[0;31mTypeError\u001b[0m: submission() got an unexpected keyword argument 'subreddit'"
     ]
    }
   ],
   "source": [
    "t = []\n",
    "for submission in reddit.submission(subreddit=subreddit):\n",
    "#     print(submission.title, submission.id)\n",
    "    t.append(submission.title)\n",
    "\n",
    "print(len(t))"
   ]
  },
  {
   "cell_type": "code",
   "execution_count": null,
   "id": "favorite-portrait",
   "metadata": {},
   "outputs": [],
   "source": []
  },
  {
   "cell_type": "code",
   "execution_count": null,
   "id": "alternate-action",
   "metadata": {},
   "outputs": [],
   "source": []
  }
 ],
 "metadata": {
  "kernelspec": {
   "display_name": "Python 3.6.9 64-bit",
   "language": "python",
   "name": "python36964bit847514be24ec4d948819d5806e0dbd89"
  },
  "language_info": {
   "codemirror_mode": {
    "name": "ipython",
    "version": 3
   },
   "file_extension": ".py",
   "mimetype": "text/x-python",
   "name": "python",
   "nbconvert_exporter": "python",
   "pygments_lexer": "ipython3",
   "version": "3.8.5"
  }
 },
 "nbformat": 4,
 "nbformat_minor": 5
}
